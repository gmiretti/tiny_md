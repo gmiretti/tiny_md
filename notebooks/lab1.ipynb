{
 "metadata": {
  "language_info": {
   "codemirror_mode": {
    "name": "ipython",
    "version": 3
   },
   "file_extension": ".py",
   "mimetype": "text/x-python",
   "name": "python",
   "nbconvert_exporter": "python",
   "pygments_lexer": "ipython3",
   "version": "3.6.9-final"
  },
  "orig_nbformat": 2,
  "kernelspec": {
   "name": "python369jvsc74a57bd031f2aee4e71d21fbe5cf8b01ff0e069b9275f58929596ceb00d14d90e3e16cd6",
   "display_name": "Python 3.6.9 64-bit"
  }
 },
 "nbformat": 4,
 "nbformat_minor": 2,
 "cells": [
  {
   "cell_type": "code",
   "execution_count": 1,
   "metadata": {},
   "outputs": [],
   "source": [
    "import pandas as pd"
   ]
  },
  {
   "cell_type": "code",
   "execution_count": 2,
   "metadata": {},
   "outputs": [],
   "source": [
    "#  From $ man perf stat\n",
    "#  The fields are in this order:\n",
    "#        ·   optional usec time stamp in fractions of second (with -I xxx)\n",
    "#        ·   optional CPU, core, or socket identifier\n",
    "#        ·   optional number of logical CPUs aggregated\n",
    "#        ·   counter value\n",
    "#        ·   unit of the counter value or empty\n",
    "#        ·   event name\n",
    "#        ·   run time of counter\n",
    "#        ·   percentage of measurement time the counter was running\n",
    "#        ·   optional variance if multiple values are collected with -r\n",
    "#        ·   optional metric value\n",
    "#        ·   optional unit of metric\n",
    "STATS = [\"counter_value\", \"counter_value_unit\", \"event_name\", \"counter_value_variance\", \"counter_run_time\", \"counter_run_time_porcentage\", \"metric_value\",\"metric_name\"]"
   ]
  },
  {
   "cell_type": "code",
   "execution_count": 3,
   "metadata": {},
   "outputs": [],
   "source": [
    "from datetime import datetime"
   ]
  },
  {
   "cell_type": "code",
   "execution_count": 4,
   "metadata": {},
   "outputs": [],
   "source": [
    "import re"
   ]
  },
  {
   "cell_type": "code",
   "execution_count": 5,
   "metadata": {},
   "outputs": [],
   "source": [
    "from pathlib import Path"
   ]
  },
  {
   "cell_type": "code",
   "execution_count": 6,
   "metadata": {},
   "outputs": [],
   "source": [
    "dir = Path('../solutions/original/log/boyerito')"
   ]
  },
  {
   "cell_type": "code",
   "execution_count": 7,
   "metadata": {},
   "outputs": [],
   "source": [
    "def parse_stats(filepath):\n",
    "    df = pd.read_csv(filepath, names=STATS, skiprows=1)\n",
    "    filename = filepath.name\n",
    "    parts = filename.split('-')\n",
    "    df['run_start_time'] = datetime.strptime(filename[:16],'%Y-%m-%dT%H:%M')\n",
    "    df['cc'] = parts[5]\n",
    "    dni = parts.index('dn')\n",
    "    df['n'] = int(parts[dni+1])\n",
    "    df['cldflags'] = '-'.join(parts[6:dni])\n",
    "    return df"
   ]
  },
  {
   "cell_type": "code",
   "execution_count": 8,
   "metadata": {
    "tags": []
   },
   "outputs": [],
   "source": [
    "data = []\n",
    "for child in dir.iterdir(): \n",
    "    if child.match('*.csv'):\n",
    "        data.append(parse_stats(child))"
   ]
  },
  {
   "cell_type": "code",
   "execution_count": 9,
   "metadata": {},
   "outputs": [],
   "source": [
    "df = pd.concat(data)"
   ]
  },
  {
   "cell_type": "code",
   "execution_count": 10,
   "metadata": {},
   "outputs": [
    {
     "output_type": "execute_result",
     "data": {
      "text/plain": [
       "   counter_value counter_value_unit                           event_name  \\\n",
       "3             18                NaN  fp_arith_inst_retired.scalar_single   \n",
       "3              0                NaN  fp_arith_inst_retired.scalar_single   \n",
       "3              0                NaN  fp_arith_inst_retired.scalar_single   \n",
       "3              0                NaN  fp_arith_inst_retired.scalar_single   \n",
       "3              0                NaN  fp_arith_inst_retired.scalar_single   \n",
       "3             19                NaN  fp_arith_inst_retired.scalar_single   \n",
       "3              0                NaN  fp_arith_inst_retired.scalar_single   \n",
       "3              0                NaN  fp_arith_inst_retired.scalar_single   \n",
       "3              0                NaN  fp_arith_inst_retired.scalar_single   \n",
       "3             14                NaN  fp_arith_inst_retired.scalar_single   \n",
       "3              0                NaN  fp_arith_inst_retired.scalar_single   \n",
       "3              0                NaN  fp_arith_inst_retired.scalar_single   \n",
       "3              0                NaN  fp_arith_inst_retired.scalar_single   \n",
       "3              0                NaN  fp_arith_inst_retired.scalar_single   \n",
       "3              0                NaN  fp_arith_inst_retired.scalar_single   \n",
       "3              0                NaN  fp_arith_inst_retired.scalar_single   \n",
       "3              0                NaN  fp_arith_inst_retired.scalar_single   \n",
       "3              0                NaN  fp_arith_inst_retired.scalar_single   \n",
       "3              0                NaN  fp_arith_inst_retired.scalar_single   \n",
       "3              0                NaN  fp_arith_inst_retired.scalar_single   \n",
       "3              0                NaN  fp_arith_inst_retired.scalar_single   \n",
       "3              0                NaN  fp_arith_inst_retired.scalar_single   \n",
       "3              0                NaN  fp_arith_inst_retired.scalar_single   \n",
       "3              0                NaN  fp_arith_inst_retired.scalar_single   \n",
       "3              0                NaN  fp_arith_inst_retired.scalar_single   \n",
       "3              0                NaN  fp_arith_inst_retired.scalar_single   \n",
       "3              0                NaN  fp_arith_inst_retired.scalar_single   \n",
       "3              0                NaN  fp_arith_inst_retired.scalar_single   \n",
       "3              0                NaN  fp_arith_inst_retired.scalar_single   \n",
       "3              0                NaN  fp_arith_inst_retired.scalar_single   \n",
       "3             12                NaN  fp_arith_inst_retired.scalar_single   \n",
       "3             19                NaN  fp_arith_inst_retired.scalar_single   \n",
       "3             12                NaN  fp_arith_inst_retired.scalar_single   \n",
       "3             20                NaN  fp_arith_inst_retired.scalar_single   \n",
       "3              0                NaN  fp_arith_inst_retired.scalar_single   \n",
       "3              0                NaN  fp_arith_inst_retired.scalar_single   \n",
       "3              0                NaN  fp_arith_inst_retired.scalar_single   \n",
       "3              0                NaN  fp_arith_inst_retired.scalar_single   \n",
       "3              0                NaN  fp_arith_inst_retired.scalar_single   \n",
       "3             16                NaN  fp_arith_inst_retired.scalar_single   \n",
       "3             17                NaN  fp_arith_inst_retired.scalar_single   \n",
       "3              0                NaN  fp_arith_inst_retired.scalar_single   \n",
       "3              0                NaN  fp_arith_inst_retired.scalar_single   \n",
       "3              0                NaN  fp_arith_inst_retired.scalar_single   \n",
       "3              0                NaN  fp_arith_inst_retired.scalar_single   \n",
       "3              0                NaN  fp_arith_inst_retired.scalar_single   \n",
       "3              0                NaN  fp_arith_inst_retired.scalar_single   \n",
       "3              0                NaN  fp_arith_inst_retired.scalar_single   \n",
       "3              0                NaN  fp_arith_inst_retired.scalar_single   \n",
       "3              0                NaN  fp_arith_inst_retired.scalar_single   \n",
       "3              0                NaN  fp_arith_inst_retired.scalar_single   \n",
       "\n",
       "  counter_value_variance  counter_run_time  counter_run_time_porcentage  \\\n",
       "3                 12.73%        4058525480                        66.67   \n",
       "3                  0.00%        4277644584                        66.63   \n",
       "3                  0.00%       10768618054                        66.67   \n",
       "3                  0.00%        4070046047                        66.65   \n",
       "3                  0.00%        4336969681                        66.66   \n",
       "3                  8.04%        4266403347                        66.65   \n",
       "3                  0.00%        4050522550                        66.61   \n",
       "3                  0.00%        4030670631                        66.60   \n",
       "3                  0.00%        4188996201                        66.65   \n",
       "3                 21.26%        4116249892                        66.63   \n",
       "3                  0.00%        4201865146                        66.66   \n",
       "3                  0.00%        4133729449                        66.59   \n",
       "3                  0.00%        4202488549                        66.65   \n",
       "3                  0.00%        4595470339                        66.66   \n",
       "3                  0.00%        9957721944                        66.61   \n",
       "3                  0.00%        4736568757                        66.62   \n",
       "3                  0.00%        4336207581                        66.61   \n",
       "3                  0.00%        4147612625                        66.64   \n",
       "3                  0.00%       16291941921                        66.65   \n",
       "3                  0.00%        3110857809                        66.57   \n",
       "3                  0.00%       10229526344                        66.67   \n",
       "3                  0.00%       10065365265                        66.66   \n",
       "3                  0.00%        4071147414                        66.65   \n",
       "3                  0.00%        3113453602                        66.59   \n",
       "3                  0.00%        4218727948                        66.62   \n",
       "3                  0.00%        4062868260                        66.64   \n",
       "3                  0.00%        4118216962                        66.64   \n",
       "3                  0.00%        3099880821                        66.60   \n",
       "3                  0.00%        4221836155                        66.61   \n",
       "3                  0.00%        4081229122                        66.63   \n",
       "3                 38.19%        4110817490                        66.61   \n",
       "3                  5.26%       12188864941                        66.64   \n",
       "3                 37.84%        4256557649                        66.66   \n",
       "3                 10.00%       12080469687                        66.65   \n",
       "3                  0.00%        4062666882                        66.61   \n",
       "3                  0.00%        3120081052                        66.67   \n",
       "3                  0.00%        4126569415                        66.66   \n",
       "3                  0.00%        4054483709                        66.69   \n",
       "3                  0.00%        4392662288                        66.65   \n",
       "3                 27.24%        4134842378                        66.63   \n",
       "3                 16.37%        4109499732                        66.61   \n",
       "3                  0.00%        4136139290                        66.65   \n",
       "3                  0.00%       16603654072                        66.66   \n",
       "3                  0.00%        4491273483                        66.60   \n",
       "3                  0.00%       16601055376                        66.67   \n",
       "3                  0.00%       10005543459                        66.67   \n",
       "3                  0.00%       10885993778                        66.64   \n",
       "3                  0.00%        4031854542                        66.64   \n",
       "3                  0.00%       16343338428                        66.68   \n",
       "3                  0.00%        4037786357                        66.63   \n",
       "3                  0.00%        4084166744                        66.63   \n",
       "\n",
       "   metric_value metric_name      run_start_time         cc    n  \\\n",
       "3           1.6      GFLOPs 2021-04-19 15:30:00        icc  256   \n",
       "3           1.6      GFLOPs 2021-04-19 15:26:00      gcc_5  256   \n",
       "3           0.7      GFLOPs 2021-04-19 14:41:00      gcc_5  256   \n",
       "3           1.6      GFLOPs 2021-04-19 15:07:00      gcc_5  256   \n",
       "3           1.3      GFLOPs 2021-04-19 15:10:00   clang_12  256   \n",
       "3           1.5      GFLOPs 2021-04-19 15:07:00        icc  256   \n",
       "3           1.3      GFLOPs 2021-04-19 15:07:00  clang_6_0  256   \n",
       "3           1.4      GFLOPs 2021-04-19 15:26:00  clang_6_0  256   \n",
       "3           1.3      GFLOPs 2021-04-19 15:23:00   clang_12  256   \n",
       "3           1.6      GFLOPs 2021-04-19 15:26:00        icc  256   \n",
       "3           1.3      GFLOPs 2021-04-19 15:23:00  clang_6_0  256   \n",
       "3           1.4      GFLOPs 2021-04-19 15:30:00      gcc_5  256   \n",
       "3           1.3      GFLOPs 2021-04-19 15:30:00  clang_6_0  256   \n",
       "3           1.4      GFLOPs 2021-04-19 15:07:00        nvc  256   \n",
       "3           0.9      GFLOPs 2021-04-19 15:12:00        nvc  256   \n",
       "3           1.4      GFLOPs 2021-04-19 15:58:00        nvc  256   \n",
       "3           1.3      GFLOPs 2021-04-19 15:39:00   clang_12  256   \n",
       "3           1.3      GFLOPs 2021-04-19 15:30:00   clang_12  256   \n",
       "3           1.3      GFLOPs 2021-04-19 14:41:00  clang_6_0  256   \n",
       "3           2.7      GFLOPs 2021-04-19 16:10:00        nvc  256   \n",
       "3           0.8      GFLOPs 2021-04-19 15:12:00     gcc_10  256   \n",
       "3           0.8      GFLOPs 2021-04-19 14:41:00     gcc_10  256   \n",
       "3           1.6      GFLOPs 2021-04-19 15:10:00      gcc_5  256   \n",
       "3           2.7      GFLOPs 2021-04-19 16:33:00        nvc  256   \n",
       "3           1.3      GFLOPs 2021-04-19 15:23:00     gcc_10  256   \n",
       "3           1.3      GFLOPs 2021-04-19 15:10:00  clang_6_0  256   \n",
       "3           1.6      GFLOPs 2021-04-19 15:07:00     gcc_10  256   \n",
       "3           2.8      GFLOPs 2021-04-19 15:10:00        nvc  256   \n",
       "3           1.3      GFLOPs 2021-04-19 15:30:00     gcc_10  256   \n",
       "3           1.6      GFLOPs 2021-04-19 15:26:00     gcc_10  256   \n",
       "3           1.6      GFLOPs 2021-04-19 15:10:00        icc  256   \n",
       "3           1.4      GFLOPs 2021-04-19 15:12:00        icc  256   \n",
       "3           1.5      GFLOPs 2021-04-19 15:23:00        icc  256   \n",
       "3           1.4      GFLOPs 2021-04-19 14:41:00        icc  256   \n",
       "3           1.6      GFLOPs 2021-04-19 15:36:00      gcc_5  256   \n",
       "3           2.7      GFLOPs 2021-04-19 16:11:00        nvc  256   \n",
       "3           1.6      GFLOPs 2021-04-19 15:39:00      gcc_5  256   \n",
       "3           1.3      GFLOPs 2021-04-19 15:39:00  clang_6_0  256   \n",
       "3           1.2      GFLOPs 2021-04-19 15:07:00   clang_12  256   \n",
       "3           1.6      GFLOPs 2021-04-19 15:37:00        icc  256   \n",
       "3           1.6      GFLOPs 2021-04-19 15:39:00        icc  256   \n",
       "3           1.4      GFLOPs 2021-04-19 15:23:00      gcc_5  256   \n",
       "3           1.3      GFLOPs 2021-04-19 14:41:00   clang_12  256   \n",
       "3           1.2      GFLOPs 2021-04-19 15:26:00   clang_12  256   \n",
       "3           1.3      GFLOPs 2021-04-19 15:12:00   clang_12  256   \n",
       "3           0.9      GFLOPs 2021-04-19 14:41:00        nvc  256   \n",
       "3           0.7      GFLOPs 2021-04-19 15:12:00      gcc_5  256   \n",
       "3           1.7      GFLOPs 2021-04-19 15:10:00     gcc_10  256   \n",
       "3           1.3      GFLOPs 2021-04-19 15:12:00  clang_6_0  256   \n",
       "3           1.7      GFLOPs 2021-04-19 15:36:00     gcc_10  256   \n",
       "3           1.6      GFLOPs 2021-04-19 15:39:00     gcc_10  256   \n",
       "\n",
       "                           cldflags  \n",
       "3             ofast-march-native-lm  \n",
       "3           o4-march-native-flto-lm  \n",
       "3                             o0-lm  \n",
       "3                o3-march-native-lm  \n",
       "3                o4-march-native-lm  \n",
       "3                o3-march-native-lm  \n",
       "3                o3-march-native-lm  \n",
       "3           o4-march-native-flto-lm  \n",
       "3     o4-march-native-ffast-math-lm  \n",
       "3           o4-march-native-flto-lm  \n",
       "3     o4-march-native-ffast-math-lm  \n",
       "3             ofast-march-native-lm  \n",
       "3             ofast-march-native-lm  \n",
       "3                o3-march-native-lm  \n",
       "3                             o0-lm  \n",
       "3              fast-march-native-lm  \n",
       "3  o4-march-native-funroll-loops-lm  \n",
       "3             ofast-march-native-lm  \n",
       "3                             o0-lm  \n",
       "3         o4-march-native-mipa-fast  \n",
       "3                             o0-lm  \n",
       "3                             o0-lm  \n",
       "3                o4-march-native-lm  \n",
       "3                o4-march-native-lm  \n",
       "3     o4-march-native-ffast-math-lm  \n",
       "3                o4-march-native-lm  \n",
       "3                o3-march-native-lm  \n",
       "3                o4-march-native-lm  \n",
       "3             ofast-march-native-lm  \n",
       "3           o4-march-native-flto-lm  \n",
       "3                o4-march-native-lm  \n",
       "3                             o0-lm  \n",
       "3     o4-march-native-ffast-math-lm  \n",
       "3                             o0-lm  \n",
       "3    o4-march-native-floop-block-lm  \n",
       "3  o4-march-native-mipa-fast-inline  \n",
       "3  o4-march-native-funroll-loops-lm  \n",
       "3  o4-march-native-funroll-loops-lm  \n",
       "3                o3-march-native-lm  \n",
       "3    o4-march-native-floop-block-lm  \n",
       "3  o4-march-native-funroll-loops-lm  \n",
       "3     o4-march-native-ffast-math-lm  \n",
       "3                             o0-lm  \n",
       "3           o4-march-native-flto-lm  \n",
       "3                             o0-lm  \n",
       "3                             o0-lm  \n",
       "3                             o0-lm  \n",
       "3                o4-march-native-lm  \n",
       "3                             o0-lm  \n",
       "3    o4-march-native-floop-block-lm  \n",
       "3  o4-march-native-funroll-loops-lm  "
      ],
      "text/html": "<div>\n<style scoped>\n    .dataframe tbody tr th:only-of-type {\n        vertical-align: middle;\n    }\n\n    .dataframe tbody tr th {\n        vertical-align: top;\n    }\n\n    .dataframe thead th {\n        text-align: right;\n    }\n</style>\n<table border=\"1\" class=\"dataframe\">\n  <thead>\n    <tr style=\"text-align: right;\">\n      <th></th>\n      <th>counter_value</th>\n      <th>counter_value_unit</th>\n      <th>event_name</th>\n      <th>counter_value_variance</th>\n      <th>counter_run_time</th>\n      <th>counter_run_time_porcentage</th>\n      <th>metric_value</th>\n      <th>metric_name</th>\n      <th>run_start_time</th>\n      <th>cc</th>\n      <th>n</th>\n      <th>cldflags</th>\n    </tr>\n  </thead>\n  <tbody>\n    <tr>\n      <th>3</th>\n      <td>18</td>\n      <td>NaN</td>\n      <td>fp_arith_inst_retired.scalar_single</td>\n      <td>12.73%</td>\n      <td>4058525480</td>\n      <td>66.67</td>\n      <td>1.6</td>\n      <td>GFLOPs</td>\n      <td>2021-04-19 15:30:00</td>\n      <td>icc</td>\n      <td>256</td>\n      <td>ofast-march-native-lm</td>\n    </tr>\n    <tr>\n      <th>3</th>\n      <td>0</td>\n      <td>NaN</td>\n      <td>fp_arith_inst_retired.scalar_single</td>\n      <td>0.00%</td>\n      <td>4277644584</td>\n      <td>66.63</td>\n      <td>1.6</td>\n      <td>GFLOPs</td>\n      <td>2021-04-19 15:26:00</td>\n      <td>gcc_5</td>\n      <td>256</td>\n      <td>o4-march-native-flto-lm</td>\n    </tr>\n    <tr>\n      <th>3</th>\n      <td>0</td>\n      <td>NaN</td>\n      <td>fp_arith_inst_retired.scalar_single</td>\n      <td>0.00%</td>\n      <td>10768618054</td>\n      <td>66.67</td>\n      <td>0.7</td>\n      <td>GFLOPs</td>\n      <td>2021-04-19 14:41:00</td>\n      <td>gcc_5</td>\n      <td>256</td>\n      <td>o0-lm</td>\n    </tr>\n    <tr>\n      <th>3</th>\n      <td>0</td>\n      <td>NaN</td>\n      <td>fp_arith_inst_retired.scalar_single</td>\n      <td>0.00%</td>\n      <td>4070046047</td>\n      <td>66.65</td>\n      <td>1.6</td>\n      <td>GFLOPs</td>\n      <td>2021-04-19 15:07:00</td>\n      <td>gcc_5</td>\n      <td>256</td>\n      <td>o3-march-native-lm</td>\n    </tr>\n    <tr>\n      <th>3</th>\n      <td>0</td>\n      <td>NaN</td>\n      <td>fp_arith_inst_retired.scalar_single</td>\n      <td>0.00%</td>\n      <td>4336969681</td>\n      <td>66.66</td>\n      <td>1.3</td>\n      <td>GFLOPs</td>\n      <td>2021-04-19 15:10:00</td>\n      <td>clang_12</td>\n      <td>256</td>\n      <td>o4-march-native-lm</td>\n    </tr>\n    <tr>\n      <th>3</th>\n      <td>19</td>\n      <td>NaN</td>\n      <td>fp_arith_inst_retired.scalar_single</td>\n      <td>8.04%</td>\n      <td>4266403347</td>\n      <td>66.65</td>\n      <td>1.5</td>\n      <td>GFLOPs</td>\n      <td>2021-04-19 15:07:00</td>\n      <td>icc</td>\n      <td>256</td>\n      <td>o3-march-native-lm</td>\n    </tr>\n    <tr>\n      <th>3</th>\n      <td>0</td>\n      <td>NaN</td>\n      <td>fp_arith_inst_retired.scalar_single</td>\n      <td>0.00%</td>\n      <td>4050522550</td>\n      <td>66.61</td>\n      <td>1.3</td>\n      <td>GFLOPs</td>\n      <td>2021-04-19 15:07:00</td>\n      <td>clang_6_0</td>\n      <td>256</td>\n      <td>o3-march-native-lm</td>\n    </tr>\n    <tr>\n      <th>3</th>\n      <td>0</td>\n      <td>NaN</td>\n      <td>fp_arith_inst_retired.scalar_single</td>\n      <td>0.00%</td>\n      <td>4030670631</td>\n      <td>66.60</td>\n      <td>1.4</td>\n      <td>GFLOPs</td>\n      <td>2021-04-19 15:26:00</td>\n      <td>clang_6_0</td>\n      <td>256</td>\n      <td>o4-march-native-flto-lm</td>\n    </tr>\n    <tr>\n      <th>3</th>\n      <td>0</td>\n      <td>NaN</td>\n      <td>fp_arith_inst_retired.scalar_single</td>\n      <td>0.00%</td>\n      <td>4188996201</td>\n      <td>66.65</td>\n      <td>1.3</td>\n      <td>GFLOPs</td>\n      <td>2021-04-19 15:23:00</td>\n      <td>clang_12</td>\n      <td>256</td>\n      <td>o4-march-native-ffast-math-lm</td>\n    </tr>\n    <tr>\n      <th>3</th>\n      <td>14</td>\n      <td>NaN</td>\n      <td>fp_arith_inst_retired.scalar_single</td>\n      <td>21.26%</td>\n      <td>4116249892</td>\n      <td>66.63</td>\n      <td>1.6</td>\n      <td>GFLOPs</td>\n      <td>2021-04-19 15:26:00</td>\n      <td>icc</td>\n      <td>256</td>\n      <td>o4-march-native-flto-lm</td>\n    </tr>\n    <tr>\n      <th>3</th>\n      <td>0</td>\n      <td>NaN</td>\n      <td>fp_arith_inst_retired.scalar_single</td>\n      <td>0.00%</td>\n      <td>4201865146</td>\n      <td>66.66</td>\n      <td>1.3</td>\n      <td>GFLOPs</td>\n      <td>2021-04-19 15:23:00</td>\n      <td>clang_6_0</td>\n      <td>256</td>\n      <td>o4-march-native-ffast-math-lm</td>\n    </tr>\n    <tr>\n      <th>3</th>\n      <td>0</td>\n      <td>NaN</td>\n      <td>fp_arith_inst_retired.scalar_single</td>\n      <td>0.00%</td>\n      <td>4133729449</td>\n      <td>66.59</td>\n      <td>1.4</td>\n      <td>GFLOPs</td>\n      <td>2021-04-19 15:30:00</td>\n      <td>gcc_5</td>\n      <td>256</td>\n      <td>ofast-march-native-lm</td>\n    </tr>\n    <tr>\n      <th>3</th>\n      <td>0</td>\n      <td>NaN</td>\n      <td>fp_arith_inst_retired.scalar_single</td>\n      <td>0.00%</td>\n      <td>4202488549</td>\n      <td>66.65</td>\n      <td>1.3</td>\n      <td>GFLOPs</td>\n      <td>2021-04-19 15:30:00</td>\n      <td>clang_6_0</td>\n      <td>256</td>\n      <td>ofast-march-native-lm</td>\n    </tr>\n    <tr>\n      <th>3</th>\n      <td>0</td>\n      <td>NaN</td>\n      <td>fp_arith_inst_retired.scalar_single</td>\n      <td>0.00%</td>\n      <td>4595470339</td>\n      <td>66.66</td>\n      <td>1.4</td>\n      <td>GFLOPs</td>\n      <td>2021-04-19 15:07:00</td>\n      <td>nvc</td>\n      <td>256</td>\n      <td>o3-march-native-lm</td>\n    </tr>\n    <tr>\n      <th>3</th>\n      <td>0</td>\n      <td>NaN</td>\n      <td>fp_arith_inst_retired.scalar_single</td>\n      <td>0.00%</td>\n      <td>9957721944</td>\n      <td>66.61</td>\n      <td>0.9</td>\n      <td>GFLOPs</td>\n      <td>2021-04-19 15:12:00</td>\n      <td>nvc</td>\n      <td>256</td>\n      <td>o0-lm</td>\n    </tr>\n    <tr>\n      <th>3</th>\n      <td>0</td>\n      <td>NaN</td>\n      <td>fp_arith_inst_retired.scalar_single</td>\n      <td>0.00%</td>\n      <td>4736568757</td>\n      <td>66.62</td>\n      <td>1.4</td>\n      <td>GFLOPs</td>\n      <td>2021-04-19 15:58:00</td>\n      <td>nvc</td>\n      <td>256</td>\n      <td>fast-march-native-lm</td>\n    </tr>\n    <tr>\n      <th>3</th>\n      <td>0</td>\n      <td>NaN</td>\n      <td>fp_arith_inst_retired.scalar_single</td>\n      <td>0.00%</td>\n      <td>4336207581</td>\n      <td>66.61</td>\n      <td>1.3</td>\n      <td>GFLOPs</td>\n      <td>2021-04-19 15:39:00</td>\n      <td>clang_12</td>\n      <td>256</td>\n      <td>o4-march-native-funroll-loops-lm</td>\n    </tr>\n    <tr>\n      <th>3</th>\n      <td>0</td>\n      <td>NaN</td>\n      <td>fp_arith_inst_retired.scalar_single</td>\n      <td>0.00%</td>\n      <td>4147612625</td>\n      <td>66.64</td>\n      <td>1.3</td>\n      <td>GFLOPs</td>\n      <td>2021-04-19 15:30:00</td>\n      <td>clang_12</td>\n      <td>256</td>\n      <td>ofast-march-native-lm</td>\n    </tr>\n    <tr>\n      <th>3</th>\n      <td>0</td>\n      <td>NaN</td>\n      <td>fp_arith_inst_retired.scalar_single</td>\n      <td>0.00%</td>\n      <td>16291941921</td>\n      <td>66.65</td>\n      <td>1.3</td>\n      <td>GFLOPs</td>\n      <td>2021-04-19 14:41:00</td>\n      <td>clang_6_0</td>\n      <td>256</td>\n      <td>o0-lm</td>\n    </tr>\n    <tr>\n      <th>3</th>\n      <td>0</td>\n      <td>NaN</td>\n      <td>fp_arith_inst_retired.scalar_single</td>\n      <td>0.00%</td>\n      <td>3110857809</td>\n      <td>66.57</td>\n      <td>2.7</td>\n      <td>GFLOPs</td>\n      <td>2021-04-19 16:10:00</td>\n      <td>nvc</td>\n      <td>256</td>\n      <td>o4-march-native-mipa-fast</td>\n    </tr>\n    <tr>\n      <th>3</th>\n      <td>0</td>\n      <td>NaN</td>\n      <td>fp_arith_inst_retired.scalar_single</td>\n      <td>0.00%</td>\n      <td>10229526344</td>\n      <td>66.67</td>\n      <td>0.8</td>\n      <td>GFLOPs</td>\n      <td>2021-04-19 15:12:00</td>\n      <td>gcc_10</td>\n      <td>256</td>\n      <td>o0-lm</td>\n    </tr>\n    <tr>\n      <th>3</th>\n      <td>0</td>\n      <td>NaN</td>\n      <td>fp_arith_inst_retired.scalar_single</td>\n      <td>0.00%</td>\n      <td>10065365265</td>\n      <td>66.66</td>\n      <td>0.8</td>\n      <td>GFLOPs</td>\n      <td>2021-04-19 14:41:00</td>\n      <td>gcc_10</td>\n      <td>256</td>\n      <td>o0-lm</td>\n    </tr>\n    <tr>\n      <th>3</th>\n      <td>0</td>\n      <td>NaN</td>\n      <td>fp_arith_inst_retired.scalar_single</td>\n      <td>0.00%</td>\n      <td>4071147414</td>\n      <td>66.65</td>\n      <td>1.6</td>\n      <td>GFLOPs</td>\n      <td>2021-04-19 15:10:00</td>\n      <td>gcc_5</td>\n      <td>256</td>\n      <td>o4-march-native-lm</td>\n    </tr>\n    <tr>\n      <th>3</th>\n      <td>0</td>\n      <td>NaN</td>\n      <td>fp_arith_inst_retired.scalar_single</td>\n      <td>0.00%</td>\n      <td>3113453602</td>\n      <td>66.59</td>\n      <td>2.7</td>\n      <td>GFLOPs</td>\n      <td>2021-04-19 16:33:00</td>\n      <td>nvc</td>\n      <td>256</td>\n      <td>o4-march-native-lm</td>\n    </tr>\n    <tr>\n      <th>3</th>\n      <td>0</td>\n      <td>NaN</td>\n      <td>fp_arith_inst_retired.scalar_single</td>\n      <td>0.00%</td>\n      <td>4218727948</td>\n      <td>66.62</td>\n      <td>1.3</td>\n      <td>GFLOPs</td>\n      <td>2021-04-19 15:23:00</td>\n      <td>gcc_10</td>\n      <td>256</td>\n      <td>o4-march-native-ffast-math-lm</td>\n    </tr>\n    <tr>\n      <th>3</th>\n      <td>0</td>\n      <td>NaN</td>\n      <td>fp_arith_inst_retired.scalar_single</td>\n      <td>0.00%</td>\n      <td>4062868260</td>\n      <td>66.64</td>\n      <td>1.3</td>\n      <td>GFLOPs</td>\n      <td>2021-04-19 15:10:00</td>\n      <td>clang_6_0</td>\n      <td>256</td>\n      <td>o4-march-native-lm</td>\n    </tr>\n    <tr>\n      <th>3</th>\n      <td>0</td>\n      <td>NaN</td>\n      <td>fp_arith_inst_retired.scalar_single</td>\n      <td>0.00%</td>\n      <td>4118216962</td>\n      <td>66.64</td>\n      <td>1.6</td>\n      <td>GFLOPs</td>\n      <td>2021-04-19 15:07:00</td>\n      <td>gcc_10</td>\n      <td>256</td>\n      <td>o3-march-native-lm</td>\n    </tr>\n    <tr>\n      <th>3</th>\n      <td>0</td>\n      <td>NaN</td>\n      <td>fp_arith_inst_retired.scalar_single</td>\n      <td>0.00%</td>\n      <td>3099880821</td>\n      <td>66.60</td>\n      <td>2.8</td>\n      <td>GFLOPs</td>\n      <td>2021-04-19 15:10:00</td>\n      <td>nvc</td>\n      <td>256</td>\n      <td>o4-march-native-lm</td>\n    </tr>\n    <tr>\n      <th>3</th>\n      <td>0</td>\n      <td>NaN</td>\n      <td>fp_arith_inst_retired.scalar_single</td>\n      <td>0.00%</td>\n      <td>4221836155</td>\n      <td>66.61</td>\n      <td>1.3</td>\n      <td>GFLOPs</td>\n      <td>2021-04-19 15:30:00</td>\n      <td>gcc_10</td>\n      <td>256</td>\n      <td>ofast-march-native-lm</td>\n    </tr>\n    <tr>\n      <th>3</th>\n      <td>0</td>\n      <td>NaN</td>\n      <td>fp_arith_inst_retired.scalar_single</td>\n      <td>0.00%</td>\n      <td>4081229122</td>\n      <td>66.63</td>\n      <td>1.6</td>\n      <td>GFLOPs</td>\n      <td>2021-04-19 15:26:00</td>\n      <td>gcc_10</td>\n      <td>256</td>\n      <td>o4-march-native-flto-lm</td>\n    </tr>\n    <tr>\n      <th>3</th>\n      <td>12</td>\n      <td>NaN</td>\n      <td>fp_arith_inst_retired.scalar_single</td>\n      <td>38.19%</td>\n      <td>4110817490</td>\n      <td>66.61</td>\n      <td>1.6</td>\n      <td>GFLOPs</td>\n      <td>2021-04-19 15:10:00</td>\n      <td>icc</td>\n      <td>256</td>\n      <td>o4-march-native-lm</td>\n    </tr>\n    <tr>\n      <th>3</th>\n      <td>19</td>\n      <td>NaN</td>\n      <td>fp_arith_inst_retired.scalar_single</td>\n      <td>5.26%</td>\n      <td>12188864941</td>\n      <td>66.64</td>\n      <td>1.4</td>\n      <td>GFLOPs</td>\n      <td>2021-04-19 15:12:00</td>\n      <td>icc</td>\n      <td>256</td>\n      <td>o0-lm</td>\n    </tr>\n    <tr>\n      <th>3</th>\n      <td>12</td>\n      <td>NaN</td>\n      <td>fp_arith_inst_retired.scalar_single</td>\n      <td>37.84%</td>\n      <td>4256557649</td>\n      <td>66.66</td>\n      <td>1.5</td>\n      <td>GFLOPs</td>\n      <td>2021-04-19 15:23:00</td>\n      <td>icc</td>\n      <td>256</td>\n      <td>o4-march-native-ffast-math-lm</td>\n    </tr>\n    <tr>\n      <th>3</th>\n      <td>20</td>\n      <td>NaN</td>\n      <td>fp_arith_inst_retired.scalar_single</td>\n      <td>10.00%</td>\n      <td>12080469687</td>\n      <td>66.65</td>\n      <td>1.4</td>\n      <td>GFLOPs</td>\n      <td>2021-04-19 14:41:00</td>\n      <td>icc</td>\n      <td>256</td>\n      <td>o0-lm</td>\n    </tr>\n    <tr>\n      <th>3</th>\n      <td>0</td>\n      <td>NaN</td>\n      <td>fp_arith_inst_retired.scalar_single</td>\n      <td>0.00%</td>\n      <td>4062666882</td>\n      <td>66.61</td>\n      <td>1.6</td>\n      <td>GFLOPs</td>\n      <td>2021-04-19 15:36:00</td>\n      <td>gcc_5</td>\n      <td>256</td>\n      <td>o4-march-native-floop-block-lm</td>\n    </tr>\n    <tr>\n      <th>3</th>\n      <td>0</td>\n      <td>NaN</td>\n      <td>fp_arith_inst_retired.scalar_single</td>\n      <td>0.00%</td>\n      <td>3120081052</td>\n      <td>66.67</td>\n      <td>2.7</td>\n      <td>GFLOPs</td>\n      <td>2021-04-19 16:11:00</td>\n      <td>nvc</td>\n      <td>256</td>\n      <td>o4-march-native-mipa-fast-inline</td>\n    </tr>\n    <tr>\n      <th>3</th>\n      <td>0</td>\n      <td>NaN</td>\n      <td>fp_arith_inst_retired.scalar_single</td>\n      <td>0.00%</td>\n      <td>4126569415</td>\n      <td>66.66</td>\n      <td>1.6</td>\n      <td>GFLOPs</td>\n      <td>2021-04-19 15:39:00</td>\n      <td>gcc_5</td>\n      <td>256</td>\n      <td>o4-march-native-funroll-loops-lm</td>\n    </tr>\n    <tr>\n      <th>3</th>\n      <td>0</td>\n      <td>NaN</td>\n      <td>fp_arith_inst_retired.scalar_single</td>\n      <td>0.00%</td>\n      <td>4054483709</td>\n      <td>66.69</td>\n      <td>1.3</td>\n      <td>GFLOPs</td>\n      <td>2021-04-19 15:39:00</td>\n      <td>clang_6_0</td>\n      <td>256</td>\n      <td>o4-march-native-funroll-loops-lm</td>\n    </tr>\n    <tr>\n      <th>3</th>\n      <td>0</td>\n      <td>NaN</td>\n      <td>fp_arith_inst_retired.scalar_single</td>\n      <td>0.00%</td>\n      <td>4392662288</td>\n      <td>66.65</td>\n      <td>1.2</td>\n      <td>GFLOPs</td>\n      <td>2021-04-19 15:07:00</td>\n      <td>clang_12</td>\n      <td>256</td>\n      <td>o3-march-native-lm</td>\n    </tr>\n    <tr>\n      <th>3</th>\n      <td>16</td>\n      <td>NaN</td>\n      <td>fp_arith_inst_retired.scalar_single</td>\n      <td>27.24%</td>\n      <td>4134842378</td>\n      <td>66.63</td>\n      <td>1.6</td>\n      <td>GFLOPs</td>\n      <td>2021-04-19 15:37:00</td>\n      <td>icc</td>\n      <td>256</td>\n      <td>o4-march-native-floop-block-lm</td>\n    </tr>\n    <tr>\n      <th>3</th>\n      <td>17</td>\n      <td>NaN</td>\n      <td>fp_arith_inst_retired.scalar_single</td>\n      <td>16.37%</td>\n      <td>4109499732</td>\n      <td>66.61</td>\n      <td>1.6</td>\n      <td>GFLOPs</td>\n      <td>2021-04-19 15:39:00</td>\n      <td>icc</td>\n      <td>256</td>\n      <td>o4-march-native-funroll-loops-lm</td>\n    </tr>\n    <tr>\n      <th>3</th>\n      <td>0</td>\n      <td>NaN</td>\n      <td>fp_arith_inst_retired.scalar_single</td>\n      <td>0.00%</td>\n      <td>4136139290</td>\n      <td>66.65</td>\n      <td>1.4</td>\n      <td>GFLOPs</td>\n      <td>2021-04-19 15:23:00</td>\n      <td>gcc_5</td>\n      <td>256</td>\n      <td>o4-march-native-ffast-math-lm</td>\n    </tr>\n    <tr>\n      <th>3</th>\n      <td>0</td>\n      <td>NaN</td>\n      <td>fp_arith_inst_retired.scalar_single</td>\n      <td>0.00%</td>\n      <td>16603654072</td>\n      <td>66.66</td>\n      <td>1.3</td>\n      <td>GFLOPs</td>\n      <td>2021-04-19 14:41:00</td>\n      <td>clang_12</td>\n      <td>256</td>\n      <td>o0-lm</td>\n    </tr>\n    <tr>\n      <th>3</th>\n      <td>0</td>\n      <td>NaN</td>\n      <td>fp_arith_inst_retired.scalar_single</td>\n      <td>0.00%</td>\n      <td>4491273483</td>\n      <td>66.60</td>\n      <td>1.2</td>\n      <td>GFLOPs</td>\n      <td>2021-04-19 15:26:00</td>\n      <td>clang_12</td>\n      <td>256</td>\n      <td>o4-march-native-flto-lm</td>\n    </tr>\n    <tr>\n      <th>3</th>\n      <td>0</td>\n      <td>NaN</td>\n      <td>fp_arith_inst_retired.scalar_single</td>\n      <td>0.00%</td>\n      <td>16601055376</td>\n      <td>66.67</td>\n      <td>1.3</td>\n      <td>GFLOPs</td>\n      <td>2021-04-19 15:12:00</td>\n      <td>clang_12</td>\n      <td>256</td>\n      <td>o0-lm</td>\n    </tr>\n    <tr>\n      <th>3</th>\n      <td>0</td>\n      <td>NaN</td>\n      <td>fp_arith_inst_retired.scalar_single</td>\n      <td>0.00%</td>\n      <td>10005543459</td>\n      <td>66.67</td>\n      <td>0.9</td>\n      <td>GFLOPs</td>\n      <td>2021-04-19 14:41:00</td>\n      <td>nvc</td>\n      <td>256</td>\n      <td>o0-lm</td>\n    </tr>\n    <tr>\n      <th>3</th>\n      <td>0</td>\n      <td>NaN</td>\n      <td>fp_arith_inst_retired.scalar_single</td>\n      <td>0.00%</td>\n      <td>10885993778</td>\n      <td>66.64</td>\n      <td>0.7</td>\n      <td>GFLOPs</td>\n      <td>2021-04-19 15:12:00</td>\n      <td>gcc_5</td>\n      <td>256</td>\n      <td>o0-lm</td>\n    </tr>\n    <tr>\n      <th>3</th>\n      <td>0</td>\n      <td>NaN</td>\n      <td>fp_arith_inst_retired.scalar_single</td>\n      <td>0.00%</td>\n      <td>4031854542</td>\n      <td>66.64</td>\n      <td>1.7</td>\n      <td>GFLOPs</td>\n      <td>2021-04-19 15:10:00</td>\n      <td>gcc_10</td>\n      <td>256</td>\n      <td>o4-march-native-lm</td>\n    </tr>\n    <tr>\n      <th>3</th>\n      <td>0</td>\n      <td>NaN</td>\n      <td>fp_arith_inst_retired.scalar_single</td>\n      <td>0.00%</td>\n      <td>16343338428</td>\n      <td>66.68</td>\n      <td>1.3</td>\n      <td>GFLOPs</td>\n      <td>2021-04-19 15:12:00</td>\n      <td>clang_6_0</td>\n      <td>256</td>\n      <td>o0-lm</td>\n    </tr>\n    <tr>\n      <th>3</th>\n      <td>0</td>\n      <td>NaN</td>\n      <td>fp_arith_inst_retired.scalar_single</td>\n      <td>0.00%</td>\n      <td>4037786357</td>\n      <td>66.63</td>\n      <td>1.7</td>\n      <td>GFLOPs</td>\n      <td>2021-04-19 15:36:00</td>\n      <td>gcc_10</td>\n      <td>256</td>\n      <td>o4-march-native-floop-block-lm</td>\n    </tr>\n    <tr>\n      <th>3</th>\n      <td>0</td>\n      <td>NaN</td>\n      <td>fp_arith_inst_retired.scalar_single</td>\n      <td>0.00%</td>\n      <td>4084166744</td>\n      <td>66.63</td>\n      <td>1.6</td>\n      <td>GFLOPs</td>\n      <td>2021-04-19 15:39:00</td>\n      <td>gcc_10</td>\n      <td>256</td>\n      <td>o4-march-native-funroll-loops-lm</td>\n    </tr>\n  </tbody>\n</table>\n</div>"
     },
     "metadata": {},
     "execution_count": 10
    }
   ],
   "source": [
    "gflops_256 = df[(df.metric_name == 'GFLOPs') & (df.n == 256)]\n",
    "gflops_256"
   ]
  },
  {
   "cell_type": "code",
   "execution_count": 11,
   "metadata": {},
   "outputs": [
    {
     "output_type": "execute_result",
     "data": {
      "text/plain": [
       "          cc                          cldflags  metric_value\n",
       "3        nvc                o4-march-native-lm           2.8\n",
       "3        nvc         o4-march-native-mipa-fast           2.7\n",
       "3        nvc  o4-march-native-mipa-fast-inline           2.7\n",
       "3        nvc                o4-march-native-lm           2.7\n",
       "3     gcc_10    o4-march-native-floop-block-lm           1.7\n",
       "3     gcc_10                o4-march-native-lm           1.7\n",
       "3        icc             ofast-march-native-lm           1.6\n",
       "3        icc  o4-march-native-funroll-loops-lm           1.6\n",
       "3        icc    o4-march-native-floop-block-lm           1.6\n",
       "3      gcc_5  o4-march-native-funroll-loops-lm           1.6\n",
       "3      gcc_5    o4-march-native-floop-block-lm           1.6\n",
       "3        icc                o4-march-native-lm           1.6\n",
       "3     gcc_10           o4-march-native-flto-lm           1.6\n",
       "3     gcc_10                o3-march-native-lm           1.6\n",
       "3      gcc_5           o4-march-native-flto-lm           1.6\n",
       "3      gcc_5                o4-march-native-lm           1.6\n",
       "3     gcc_10  o4-march-native-funroll-loops-lm           1.6\n",
       "3        icc           o4-march-native-flto-lm           1.6\n",
       "3      gcc_5                o3-march-native-lm           1.6\n",
       "3        icc     o4-march-native-ffast-math-lm           1.5\n",
       "3        icc                o3-march-native-lm           1.5\n",
       "3        icc                             o0-lm           1.4\n",
       "3        nvc              fast-march-native-lm           1.4\n",
       "3        icc                             o0-lm           1.4\n",
       "3      gcc_5     o4-march-native-ffast-math-lm           1.4\n",
       "3        nvc                o3-march-native-lm           1.4\n",
       "3  clang_6_0           o4-march-native-flto-lm           1.4\n",
       "3      gcc_5             ofast-march-native-lm           1.4\n",
       "3   clang_12             ofast-march-native-lm           1.3\n",
       "3   clang_12                o4-march-native-lm           1.3\n",
       "3  clang_6_0  o4-march-native-funroll-loops-lm           1.3\n",
       "3   clang_12                             o0-lm           1.3\n",
       "3   clang_12                             o0-lm           1.3\n",
       "3  clang_6_0                             o0-lm           1.3\n",
       "3  clang_6_0                o3-march-native-lm           1.3\n",
       "3   clang_12     o4-march-native-ffast-math-lm           1.3\n",
       "3  clang_6_0                             o0-lm           1.3\n",
       "3  clang_6_0     o4-march-native-ffast-math-lm           1.3\n",
       "3     gcc_10             ofast-march-native-lm           1.3\n",
       "3  clang_6_0             ofast-march-native-lm           1.3\n",
       "3     gcc_10     o4-march-native-ffast-math-lm           1.3\n",
       "3   clang_12  o4-march-native-funroll-loops-lm           1.3\n",
       "3  clang_6_0                o4-march-native-lm           1.3\n",
       "3   clang_12                o3-march-native-lm           1.2\n",
       "3   clang_12           o4-march-native-flto-lm           1.2\n",
       "3        nvc                             o0-lm           0.9\n",
       "3        nvc                             o0-lm           0.9\n",
       "3     gcc_10                             o0-lm           0.8\n",
       "3     gcc_10                             o0-lm           0.8\n",
       "3      gcc_5                             o0-lm           0.7\n",
       "3      gcc_5                             o0-lm           0.7"
      ],
      "text/html": "<div>\n<style scoped>\n    .dataframe tbody tr th:only-of-type {\n        vertical-align: middle;\n    }\n\n    .dataframe tbody tr th {\n        vertical-align: top;\n    }\n\n    .dataframe thead th {\n        text-align: right;\n    }\n</style>\n<table border=\"1\" class=\"dataframe\">\n  <thead>\n    <tr style=\"text-align: right;\">\n      <th></th>\n      <th>cc</th>\n      <th>cldflags</th>\n      <th>metric_value</th>\n    </tr>\n  </thead>\n  <tbody>\n    <tr>\n      <th>3</th>\n      <td>nvc</td>\n      <td>o4-march-native-lm</td>\n      <td>2.8</td>\n    </tr>\n    <tr>\n      <th>3</th>\n      <td>nvc</td>\n      <td>o4-march-native-mipa-fast</td>\n      <td>2.7</td>\n    </tr>\n    <tr>\n      <th>3</th>\n      <td>nvc</td>\n      <td>o4-march-native-mipa-fast-inline</td>\n      <td>2.7</td>\n    </tr>\n    <tr>\n      <th>3</th>\n      <td>nvc</td>\n      <td>o4-march-native-lm</td>\n      <td>2.7</td>\n    </tr>\n    <tr>\n      <th>3</th>\n      <td>gcc_10</td>\n      <td>o4-march-native-floop-block-lm</td>\n      <td>1.7</td>\n    </tr>\n    <tr>\n      <th>3</th>\n      <td>gcc_10</td>\n      <td>o4-march-native-lm</td>\n      <td>1.7</td>\n    </tr>\n    <tr>\n      <th>3</th>\n      <td>icc</td>\n      <td>ofast-march-native-lm</td>\n      <td>1.6</td>\n    </tr>\n    <tr>\n      <th>3</th>\n      <td>icc</td>\n      <td>o4-march-native-funroll-loops-lm</td>\n      <td>1.6</td>\n    </tr>\n    <tr>\n      <th>3</th>\n      <td>icc</td>\n      <td>o4-march-native-floop-block-lm</td>\n      <td>1.6</td>\n    </tr>\n    <tr>\n      <th>3</th>\n      <td>gcc_5</td>\n      <td>o4-march-native-funroll-loops-lm</td>\n      <td>1.6</td>\n    </tr>\n    <tr>\n      <th>3</th>\n      <td>gcc_5</td>\n      <td>o4-march-native-floop-block-lm</td>\n      <td>1.6</td>\n    </tr>\n    <tr>\n      <th>3</th>\n      <td>icc</td>\n      <td>o4-march-native-lm</td>\n      <td>1.6</td>\n    </tr>\n    <tr>\n      <th>3</th>\n      <td>gcc_10</td>\n      <td>o4-march-native-flto-lm</td>\n      <td>1.6</td>\n    </tr>\n    <tr>\n      <th>3</th>\n      <td>gcc_10</td>\n      <td>o3-march-native-lm</td>\n      <td>1.6</td>\n    </tr>\n    <tr>\n      <th>3</th>\n      <td>gcc_5</td>\n      <td>o4-march-native-flto-lm</td>\n      <td>1.6</td>\n    </tr>\n    <tr>\n      <th>3</th>\n      <td>gcc_5</td>\n      <td>o4-march-native-lm</td>\n      <td>1.6</td>\n    </tr>\n    <tr>\n      <th>3</th>\n      <td>gcc_10</td>\n      <td>o4-march-native-funroll-loops-lm</td>\n      <td>1.6</td>\n    </tr>\n    <tr>\n      <th>3</th>\n      <td>icc</td>\n      <td>o4-march-native-flto-lm</td>\n      <td>1.6</td>\n    </tr>\n    <tr>\n      <th>3</th>\n      <td>gcc_5</td>\n      <td>o3-march-native-lm</td>\n      <td>1.6</td>\n    </tr>\n    <tr>\n      <th>3</th>\n      <td>icc</td>\n      <td>o4-march-native-ffast-math-lm</td>\n      <td>1.5</td>\n    </tr>\n    <tr>\n      <th>3</th>\n      <td>icc</td>\n      <td>o3-march-native-lm</td>\n      <td>1.5</td>\n    </tr>\n    <tr>\n      <th>3</th>\n      <td>icc</td>\n      <td>o0-lm</td>\n      <td>1.4</td>\n    </tr>\n    <tr>\n      <th>3</th>\n      <td>nvc</td>\n      <td>fast-march-native-lm</td>\n      <td>1.4</td>\n    </tr>\n    <tr>\n      <th>3</th>\n      <td>icc</td>\n      <td>o0-lm</td>\n      <td>1.4</td>\n    </tr>\n    <tr>\n      <th>3</th>\n      <td>gcc_5</td>\n      <td>o4-march-native-ffast-math-lm</td>\n      <td>1.4</td>\n    </tr>\n    <tr>\n      <th>3</th>\n      <td>nvc</td>\n      <td>o3-march-native-lm</td>\n      <td>1.4</td>\n    </tr>\n    <tr>\n      <th>3</th>\n      <td>clang_6_0</td>\n      <td>o4-march-native-flto-lm</td>\n      <td>1.4</td>\n    </tr>\n    <tr>\n      <th>3</th>\n      <td>gcc_5</td>\n      <td>ofast-march-native-lm</td>\n      <td>1.4</td>\n    </tr>\n    <tr>\n      <th>3</th>\n      <td>clang_12</td>\n      <td>ofast-march-native-lm</td>\n      <td>1.3</td>\n    </tr>\n    <tr>\n      <th>3</th>\n      <td>clang_12</td>\n      <td>o4-march-native-lm</td>\n      <td>1.3</td>\n    </tr>\n    <tr>\n      <th>3</th>\n      <td>clang_6_0</td>\n      <td>o4-march-native-funroll-loops-lm</td>\n      <td>1.3</td>\n    </tr>\n    <tr>\n      <th>3</th>\n      <td>clang_12</td>\n      <td>o0-lm</td>\n      <td>1.3</td>\n    </tr>\n    <tr>\n      <th>3</th>\n      <td>clang_12</td>\n      <td>o0-lm</td>\n      <td>1.3</td>\n    </tr>\n    <tr>\n      <th>3</th>\n      <td>clang_6_0</td>\n      <td>o0-lm</td>\n      <td>1.3</td>\n    </tr>\n    <tr>\n      <th>3</th>\n      <td>clang_6_0</td>\n      <td>o3-march-native-lm</td>\n      <td>1.3</td>\n    </tr>\n    <tr>\n      <th>3</th>\n      <td>clang_12</td>\n      <td>o4-march-native-ffast-math-lm</td>\n      <td>1.3</td>\n    </tr>\n    <tr>\n      <th>3</th>\n      <td>clang_6_0</td>\n      <td>o0-lm</td>\n      <td>1.3</td>\n    </tr>\n    <tr>\n      <th>3</th>\n      <td>clang_6_0</td>\n      <td>o4-march-native-ffast-math-lm</td>\n      <td>1.3</td>\n    </tr>\n    <tr>\n      <th>3</th>\n      <td>gcc_10</td>\n      <td>ofast-march-native-lm</td>\n      <td>1.3</td>\n    </tr>\n    <tr>\n      <th>3</th>\n      <td>clang_6_0</td>\n      <td>ofast-march-native-lm</td>\n      <td>1.3</td>\n    </tr>\n    <tr>\n      <th>3</th>\n      <td>gcc_10</td>\n      <td>o4-march-native-ffast-math-lm</td>\n      <td>1.3</td>\n    </tr>\n    <tr>\n      <th>3</th>\n      <td>clang_12</td>\n      <td>o4-march-native-funroll-loops-lm</td>\n      <td>1.3</td>\n    </tr>\n    <tr>\n      <th>3</th>\n      <td>clang_6_0</td>\n      <td>o4-march-native-lm</td>\n      <td>1.3</td>\n    </tr>\n    <tr>\n      <th>3</th>\n      <td>clang_12</td>\n      <td>o3-march-native-lm</td>\n      <td>1.2</td>\n    </tr>\n    <tr>\n      <th>3</th>\n      <td>clang_12</td>\n      <td>o4-march-native-flto-lm</td>\n      <td>1.2</td>\n    </tr>\n    <tr>\n      <th>3</th>\n      <td>nvc</td>\n      <td>o0-lm</td>\n      <td>0.9</td>\n    </tr>\n    <tr>\n      <th>3</th>\n      <td>nvc</td>\n      <td>o0-lm</td>\n      <td>0.9</td>\n    </tr>\n    <tr>\n      <th>3</th>\n      <td>gcc_10</td>\n      <td>o0-lm</td>\n      <td>0.8</td>\n    </tr>\n    <tr>\n      <th>3</th>\n      <td>gcc_10</td>\n      <td>o0-lm</td>\n      <td>0.8</td>\n    </tr>\n    <tr>\n      <th>3</th>\n      <td>gcc_5</td>\n      <td>o0-lm</td>\n      <td>0.7</td>\n    </tr>\n    <tr>\n      <th>3</th>\n      <td>gcc_5</td>\n      <td>o0-lm</td>\n      <td>0.7</td>\n    </tr>\n  </tbody>\n</table>\n</div>"
     },
     "metadata": {},
     "execution_count": 11
    }
   ],
   "source": [
    "gflops_256[[\"cc\", \"cldflags\", \"metric_value\"]].sort_values(\"metric_value\", ascending = False)"
   ]
  },
  {
   "cell_type": "code",
   "execution_count": 12,
   "metadata": {},
   "outputs": [
    {
     "output_type": "execute_result",
     "data": {
      "text/plain": [
       "   metric_value         cc\n",
       "3           1.3   clang_12\n",
       "3           1.6      gcc_5\n",
       "3           2.7        nvc\n",
       "3           1.3  clang_6_0\n",
       "3           2.8        nvc\n",
       "3           1.6        icc\n",
       "3           1.7     gcc_10"
      ],
      "text/html": "<div>\n<style scoped>\n    .dataframe tbody tr th:only-of-type {\n        vertical-align: middle;\n    }\n\n    .dataframe tbody tr th {\n        vertical-align: top;\n    }\n\n    .dataframe thead th {\n        text-align: right;\n    }\n</style>\n<table border=\"1\" class=\"dataframe\">\n  <thead>\n    <tr style=\"text-align: right;\">\n      <th></th>\n      <th>metric_value</th>\n      <th>cc</th>\n    </tr>\n  </thead>\n  <tbody>\n    <tr>\n      <th>3</th>\n      <td>1.3</td>\n      <td>clang_12</td>\n    </tr>\n    <tr>\n      <th>3</th>\n      <td>1.6</td>\n      <td>gcc_5</td>\n    </tr>\n    <tr>\n      <th>3</th>\n      <td>2.7</td>\n      <td>nvc</td>\n    </tr>\n    <tr>\n      <th>3</th>\n      <td>1.3</td>\n      <td>clang_6_0</td>\n    </tr>\n    <tr>\n      <th>3</th>\n      <td>2.8</td>\n      <td>nvc</td>\n    </tr>\n    <tr>\n      <th>3</th>\n      <td>1.6</td>\n      <td>icc</td>\n    </tr>\n    <tr>\n      <th>3</th>\n      <td>1.7</td>\n      <td>gcc_10</td>\n    </tr>\n  </tbody>\n</table>\n</div>"
     },
     "metadata": {},
     "execution_count": 12
    }
   ],
   "source": [
    "gflops_256[gflops_256.cldflags == \"o4-march-native-lm\"][[\"metric_value\", \"cc\"]]"
   ]
  },
  {
   "cell_type": "code",
   "execution_count": 13,
   "metadata": {},
   "outputs": [
    {
     "output_type": "stream",
     "name": "stderr",
     "text": [
      "ipykernel_launcher:2: SettingWithCopyWarning: \nA value is trying to be set on a copy of a slice from a DataFrame.\nTry using .loc[row_indexer,col_indexer] = value instead\n\nSee the caveats in the documentation: http://pandas.pydata.org/pandas-docs/stable/indexing.html#indexing-view-versus-copy\n"
     ]
    },
    {
     "output_type": "execute_result",
     "data": {
      "text/plain": [
       "   metric_value   cc     n  GFLOPs_div_n\n",
       "3           4.6  nvc  2048      0.002246\n",
       "3           5.0  nvc  1024      0.004883\n",
       "3           4.3  nvc   512      0.008398\n",
       "3           2.7  nvc   256      0.010547\n",
       "3           2.8  nvc   256      0.010937\n",
       "3           2.4  nvc    64      0.037500\n",
       "3           1.9  nvc    16      0.118750"
      ],
      "text/html": "<div>\n<style scoped>\n    .dataframe tbody tr th:only-of-type {\n        vertical-align: middle;\n    }\n\n    .dataframe tbody tr th {\n        vertical-align: top;\n    }\n\n    .dataframe thead th {\n        text-align: right;\n    }\n</style>\n<table border=\"1\" class=\"dataframe\">\n  <thead>\n    <tr style=\"text-align: right;\">\n      <th></th>\n      <th>metric_value</th>\n      <th>cc</th>\n      <th>n</th>\n      <th>GFLOPs_div_n</th>\n    </tr>\n  </thead>\n  <tbody>\n    <tr>\n      <th>3</th>\n      <td>4.6</td>\n      <td>nvc</td>\n      <td>2048</td>\n      <td>0.002246</td>\n    </tr>\n    <tr>\n      <th>3</th>\n      <td>5.0</td>\n      <td>nvc</td>\n      <td>1024</td>\n      <td>0.004883</td>\n    </tr>\n    <tr>\n      <th>3</th>\n      <td>4.3</td>\n      <td>nvc</td>\n      <td>512</td>\n      <td>0.008398</td>\n    </tr>\n    <tr>\n      <th>3</th>\n      <td>2.7</td>\n      <td>nvc</td>\n      <td>256</td>\n      <td>0.010547</td>\n    </tr>\n    <tr>\n      <th>3</th>\n      <td>2.8</td>\n      <td>nvc</td>\n      <td>256</td>\n      <td>0.010937</td>\n    </tr>\n    <tr>\n      <th>3</th>\n      <td>2.4</td>\n      <td>nvc</td>\n      <td>64</td>\n      <td>0.037500</td>\n    </tr>\n    <tr>\n      <th>3</th>\n      <td>1.9</td>\n      <td>nvc</td>\n      <td>16</td>\n      <td>0.118750</td>\n    </tr>\n  </tbody>\n</table>\n</div>"
     },
     "metadata": {},
     "execution_count": 13
    }
   ],
   "source": [
    "gflops_scaling = df[(df.metric_name == 'GFLOPs') & (df.cc == 'nvc') & (df.cldflags == 'o4-march-native-lm')]\n",
    "gflops_scaling['GFLOPs_div_n'] = gflops_scaling[\"metric_value\"] / gflops_scaling[\"n\"]\n",
    "gflops_scaling = gflops_scaling.sort_values(\"n\", ascending = False)\n",
    "gflops_scaling[[\"metric_value\", \"cc\", \"n\", 'GFLOPs_div_n']].sort_values(\"n\", ascending = False)"
   ]
  },
  {
   "cell_type": "code",
   "execution_count": 14,
   "metadata": {},
   "outputs": [
    {
     "output_type": "display_data",
     "data": {
      "text/plain": "<matplotlib.figure.Figure at 0x7f356a53cf60>",
      "image/svg+xml": "<?xml version=\"1.0\" encoding=\"utf-8\" standalone=\"no\"?>\n<!DOCTYPE svg PUBLIC \"-//W3C//DTD SVG 1.1//EN\"\n  \"http://www.w3.org/Graphics/SVG/1.1/DTD/svg11.dtd\">\n<!-- Created with matplotlib (http://matplotlib.org/) -->\n<svg height=\"265pt\" version=\"1.1\" viewBox=\"0 0 375 265\" width=\"375pt\" xmlns=\"http://www.w3.org/2000/svg\" xmlns:xlink=\"http://www.w3.org/1999/xlink\">\n <defs>\n  <style type=\"text/css\">\n*{stroke-linecap:butt;stroke-linejoin:round;}\n  </style>\n </defs>\n <g id=\"figure_1\">\n  <g id=\"patch_1\">\n   <path d=\"M 0 265.69625 \nL 375.603125 265.69625 \nL 375.603125 0 \nL 0 0 \nz\n\" style=\"fill:none;\"/>\n  </g>\n  <g id=\"axes_1\">\n   <g id=\"patch_2\">\n    <path d=\"M 30.103125 228.14 \nL 364.903125 228.14 \nL 364.903125 10.7 \nL 30.103125 10.7 \nz\n\" style=\"fill:#ffffff;\"/>\n   </g>\n   <g id=\"matplotlib.axis_1\">\n    <g id=\"xtick_1\">\n     <g id=\"line2d_1\">\n      <defs>\n       <path d=\"M 0 0 \nL 0 3.5 \n\" id=\"m9e8f890ee1\" style=\"stroke:#000000;stroke-width:0.8;\"/>\n      </defs>\n      <g>\n       <use style=\"stroke:#000000;stroke-width:0.8;\" x=\"42.924743\" xlink:href=\"#m9e8f890ee1\" y=\"228.14\"/>\n      </g>\n     </g>\n     <g id=\"text_1\">\n      <!-- 0 -->\n      <defs>\n       <path d=\"M 31.78125 66.40625 \nQ 24.171875 66.40625 20.328125 58.90625 \nQ 16.5 51.421875 16.5 36.375 \nQ 16.5 21.390625 20.328125 13.890625 \nQ 24.171875 6.390625 31.78125 6.390625 \nQ 39.453125 6.390625 43.28125 13.890625 \nQ 47.125 21.390625 47.125 36.375 \nQ 47.125 51.421875 43.28125 58.90625 \nQ 39.453125 66.40625 31.78125 66.40625 \nz\nM 31.78125 74.21875 \nQ 44.046875 74.21875 50.515625 64.515625 \nQ 56.984375 54.828125 56.984375 36.375 \nQ 56.984375 17.96875 50.515625 8.265625 \nQ 44.046875 -1.421875 31.78125 -1.421875 \nQ 19.53125 -1.421875 13.0625 8.265625 \nQ 6.59375 17.96875 6.59375 36.375 \nQ 6.59375 54.828125 13.0625 64.515625 \nQ 19.53125 74.21875 31.78125 74.21875 \nz\n\" id=\"DejaVuSans-30\"/>\n      </defs>\n      <g transform=\"translate(39.743493 242.738437)scale(0.1 -0.1)\">\n       <use xlink:href=\"#DejaVuSans-30\"/>\n      </g>\n     </g>\n    </g>\n    <g id=\"xtick_2\">\n     <g id=\"line2d_2\">\n      <g>\n       <use style=\"stroke:#000000;stroke-width:0.8;\" x=\"80.371056\" xlink:href=\"#m9e8f890ee1\" y=\"228.14\"/>\n      </g>\n     </g>\n     <g id=\"text_2\">\n      <!-- 250 -->\n      <defs>\n       <path d=\"M 19.1875 8.296875 \nL 53.609375 8.296875 \nL 53.609375 0 \nL 7.328125 0 \nL 7.328125 8.296875 \nQ 12.9375 14.109375 22.625 23.890625 \nQ 32.328125 33.6875 34.8125 36.53125 \nQ 39.546875 41.84375 41.421875 45.53125 \nQ 43.3125 49.21875 43.3125 52.78125 \nQ 43.3125 58.59375 39.234375 62.25 \nQ 35.15625 65.921875 28.609375 65.921875 \nQ 23.96875 65.921875 18.8125 64.3125 \nQ 13.671875 62.703125 7.8125 59.421875 \nL 7.8125 69.390625 \nQ 13.765625 71.78125 18.9375 73 \nQ 24.125 74.21875 28.421875 74.21875 \nQ 39.75 74.21875 46.484375 68.546875 \nQ 53.21875 62.890625 53.21875 53.421875 \nQ 53.21875 48.921875 51.53125 44.890625 \nQ 49.859375 40.875 45.40625 35.40625 \nQ 44.1875 33.984375 37.640625 27.21875 \nQ 31.109375 20.453125 19.1875 8.296875 \nz\n\" id=\"DejaVuSans-32\"/>\n       <path d=\"M 10.796875 72.90625 \nL 49.515625 72.90625 \nL 49.515625 64.59375 \nL 19.828125 64.59375 \nL 19.828125 46.734375 \nQ 21.96875 47.46875 24.109375 47.828125 \nQ 26.265625 48.1875 28.421875 48.1875 \nQ 40.625 48.1875 47.75 41.5 \nQ 54.890625 34.8125 54.890625 23.390625 \nQ 54.890625 11.625 47.5625 5.09375 \nQ 40.234375 -1.421875 26.90625 -1.421875 \nQ 22.3125 -1.421875 17.546875 -0.640625 \nQ 12.796875 0.140625 7.71875 1.703125 \nL 7.71875 11.625 \nQ 12.109375 9.234375 16.796875 8.0625 \nQ 21.484375 6.890625 26.703125 6.890625 \nQ 35.15625 6.890625 40.078125 11.328125 \nQ 45.015625 15.765625 45.015625 23.390625 \nQ 45.015625 31 40.078125 35.4375 \nQ 35.15625 39.890625 26.703125 39.890625 \nQ 22.75 39.890625 18.8125 39.015625 \nQ 14.890625 38.140625 10.796875 36.28125 \nz\n\" id=\"DejaVuSans-35\"/>\n      </defs>\n      <g transform=\"translate(70.827306 242.738437)scale(0.1 -0.1)\">\n       <use xlink:href=\"#DejaVuSans-32\"/>\n       <use x=\"63.623047\" xlink:href=\"#DejaVuSans-35\"/>\n       <use x=\"127.246094\" xlink:href=\"#DejaVuSans-30\"/>\n      </g>\n     </g>\n    </g>\n    <g id=\"xtick_3\">\n     <g id=\"line2d_3\">\n      <g>\n       <use style=\"stroke:#000000;stroke-width:0.8;\" x=\"117.81737\" xlink:href=\"#m9e8f890ee1\" y=\"228.14\"/>\n      </g>\n     </g>\n     <g id=\"text_3\">\n      <!-- 500 -->\n      <g transform=\"translate(108.27362 242.738437)scale(0.1 -0.1)\">\n       <use xlink:href=\"#DejaVuSans-35\"/>\n       <use x=\"63.623047\" xlink:href=\"#DejaVuSans-30\"/>\n       <use x=\"127.246094\" xlink:href=\"#DejaVuSans-30\"/>\n      </g>\n     </g>\n    </g>\n    <g id=\"xtick_4\">\n     <g id=\"line2d_4\">\n      <g>\n       <use style=\"stroke:#000000;stroke-width:0.8;\" x=\"155.263683\" xlink:href=\"#m9e8f890ee1\" y=\"228.14\"/>\n      </g>\n     </g>\n     <g id=\"text_4\">\n      <!-- 750 -->\n      <defs>\n       <path d=\"M 8.203125 72.90625 \nL 55.078125 72.90625 \nL 55.078125 68.703125 \nL 28.609375 0 \nL 18.3125 0 \nL 43.21875 64.59375 \nL 8.203125 64.59375 \nz\n\" id=\"DejaVuSans-37\"/>\n      </defs>\n      <g transform=\"translate(145.719933 242.738437)scale(0.1 -0.1)\">\n       <use xlink:href=\"#DejaVuSans-37\"/>\n       <use x=\"63.623047\" xlink:href=\"#DejaVuSans-35\"/>\n       <use x=\"127.246094\" xlink:href=\"#DejaVuSans-30\"/>\n      </g>\n     </g>\n    </g>\n    <g id=\"xtick_5\">\n     <g id=\"line2d_5\">\n      <g>\n       <use style=\"stroke:#000000;stroke-width:0.8;\" x=\"192.709997\" xlink:href=\"#m9e8f890ee1\" y=\"228.14\"/>\n      </g>\n     </g>\n     <g id=\"text_5\">\n      <!-- 1000 -->\n      <defs>\n       <path d=\"M 12.40625 8.296875 \nL 28.515625 8.296875 \nL 28.515625 63.921875 \nL 10.984375 60.40625 \nL 10.984375 69.390625 \nL 28.421875 72.90625 \nL 38.28125 72.90625 \nL 38.28125 8.296875 \nL 54.390625 8.296875 \nL 54.390625 0 \nL 12.40625 0 \nz\n\" id=\"DejaVuSans-31\"/>\n      </defs>\n      <g transform=\"translate(179.984997 242.738437)scale(0.1 -0.1)\">\n       <use xlink:href=\"#DejaVuSans-31\"/>\n       <use x=\"63.623047\" xlink:href=\"#DejaVuSans-30\"/>\n       <use x=\"127.246094\" xlink:href=\"#DejaVuSans-30\"/>\n       <use x=\"190.869141\" xlink:href=\"#DejaVuSans-30\"/>\n      </g>\n     </g>\n    </g>\n    <g id=\"xtick_6\">\n     <g id=\"line2d_6\">\n      <g>\n       <use style=\"stroke:#000000;stroke-width:0.8;\" x=\"230.15631\" xlink:href=\"#m9e8f890ee1\" y=\"228.14\"/>\n      </g>\n     </g>\n     <g id=\"text_6\">\n      <!-- 1250 -->\n      <g transform=\"translate(217.43131 242.738437)scale(0.1 -0.1)\">\n       <use xlink:href=\"#DejaVuSans-31\"/>\n       <use x=\"63.623047\" xlink:href=\"#DejaVuSans-32\"/>\n       <use x=\"127.246094\" xlink:href=\"#DejaVuSans-35\"/>\n       <use x=\"190.869141\" xlink:href=\"#DejaVuSans-30\"/>\n      </g>\n     </g>\n    </g>\n    <g id=\"xtick_7\">\n     <g id=\"line2d_7\">\n      <g>\n       <use style=\"stroke:#000000;stroke-width:0.8;\" x=\"267.602624\" xlink:href=\"#m9e8f890ee1\" y=\"228.14\"/>\n      </g>\n     </g>\n     <g id=\"text_7\">\n      <!-- 1500 -->\n      <g transform=\"translate(254.877624 242.738437)scale(0.1 -0.1)\">\n       <use xlink:href=\"#DejaVuSans-31\"/>\n       <use x=\"63.623047\" xlink:href=\"#DejaVuSans-35\"/>\n       <use x=\"127.246094\" xlink:href=\"#DejaVuSans-30\"/>\n       <use x=\"190.869141\" xlink:href=\"#DejaVuSans-30\"/>\n      </g>\n     </g>\n    </g>\n    <g id=\"xtick_8\">\n     <g id=\"line2d_8\">\n      <g>\n       <use style=\"stroke:#000000;stroke-width:0.8;\" x=\"305.048937\" xlink:href=\"#m9e8f890ee1\" y=\"228.14\"/>\n      </g>\n     </g>\n     <g id=\"text_8\">\n      <!-- 1750 -->\n      <g transform=\"translate(292.323937 242.738437)scale(0.1 -0.1)\">\n       <use xlink:href=\"#DejaVuSans-31\"/>\n       <use x=\"63.623047\" xlink:href=\"#DejaVuSans-37\"/>\n       <use x=\"127.246094\" xlink:href=\"#DejaVuSans-35\"/>\n       <use x=\"190.869141\" xlink:href=\"#DejaVuSans-30\"/>\n      </g>\n     </g>\n    </g>\n    <g id=\"xtick_9\">\n     <g id=\"line2d_9\">\n      <g>\n       <use style=\"stroke:#000000;stroke-width:0.8;\" x=\"342.495251\" xlink:href=\"#m9e8f890ee1\" y=\"228.14\"/>\n      </g>\n     </g>\n     <g id=\"text_9\">\n      <!-- 2000 -->\n      <g transform=\"translate(329.770251 242.738437)scale(0.1 -0.1)\">\n       <use xlink:href=\"#DejaVuSans-32\"/>\n       <use x=\"63.623047\" xlink:href=\"#DejaVuSans-30\"/>\n       <use x=\"127.246094\" xlink:href=\"#DejaVuSans-30\"/>\n       <use x=\"190.869141\" xlink:href=\"#DejaVuSans-30\"/>\n      </g>\n     </g>\n    </g>\n    <g id=\"text_10\">\n     <!-- n -->\n     <defs>\n      <path d=\"M 54.890625 33.015625 \nL 54.890625 0 \nL 45.90625 0 \nL 45.90625 32.71875 \nQ 45.90625 40.484375 42.875 44.328125 \nQ 39.84375 48.1875 33.796875 48.1875 \nQ 26.515625 48.1875 22.3125 43.546875 \nQ 18.109375 38.921875 18.109375 30.90625 \nL 18.109375 0 \nL 9.078125 0 \nL 9.078125 54.6875 \nL 18.109375 54.6875 \nL 18.109375 46.1875 \nQ 21.34375 51.125 25.703125 53.5625 \nQ 30.078125 56 35.796875 56 \nQ 45.21875 56 50.046875 50.171875 \nQ 54.890625 44.34375 54.890625 33.015625 \nz\n\" id=\"DejaVuSans-6e\"/>\n     </defs>\n     <g transform=\"translate(194.334375 256.416562)scale(0.1 -0.1)\">\n      <use xlink:href=\"#DejaVuSans-6e\"/>\n     </g>\n    </g>\n   </g>\n   <g id=\"matplotlib.axis_2\">\n    <g id=\"ytick_1\">\n     <g id=\"line2d_10\">\n      <defs>\n       <path d=\"M 0 0 \nL -3.5 0 \n\" id=\"m8576b2d322\" style=\"stroke:#000000;stroke-width:0.8;\"/>\n      </defs>\n      <g>\n       <use style=\"stroke:#000000;stroke-width:0.8;\" x=\"30.103125\" xlink:href=\"#m8576b2d322\" y=\"211.879824\"/>\n      </g>\n     </g>\n     <g id=\"text_11\">\n      <!-- 2.0 -->\n      <defs>\n       <path d=\"M 10.6875 12.40625 \nL 21 12.40625 \nL 21 0 \nL 10.6875 0 \nz\n\" id=\"DejaVuSans-2e\"/>\n      </defs>\n      <g transform=\"translate(7.2 215.679043)scale(0.1 -0.1)\">\n       <use xlink:href=\"#DejaVuSans-32\"/>\n       <use x=\"63.623047\" xlink:href=\"#DejaVuSans-2e\"/>\n       <use x=\"95.410156\" xlink:href=\"#DejaVuSans-30\"/>\n      </g>\n     </g>\n    </g>\n    <g id=\"ytick_2\">\n     <g id=\"line2d_11\">\n      <g>\n       <use style=\"stroke:#000000;stroke-width:0.8;\" x=\"30.103125\" xlink:href=\"#m8576b2d322\" y=\"179.997126\"/>\n      </g>\n     </g>\n     <g id=\"text_12\">\n      <!-- 2.5 -->\n      <g transform=\"translate(7.2 183.796345)scale(0.1 -0.1)\">\n       <use xlink:href=\"#DejaVuSans-32\"/>\n       <use x=\"63.623047\" xlink:href=\"#DejaVuSans-2e\"/>\n       <use x=\"95.410156\" xlink:href=\"#DejaVuSans-35\"/>\n      </g>\n     </g>\n    </g>\n    <g id=\"ytick_3\">\n     <g id=\"line2d_12\">\n      <g>\n       <use style=\"stroke:#000000;stroke-width:0.8;\" x=\"30.103125\" xlink:href=\"#m8576b2d322\" y=\"148.114428\"/>\n      </g>\n     </g>\n     <g id=\"text_13\">\n      <!-- 3.0 -->\n      <defs>\n       <path d=\"M 40.578125 39.3125 \nQ 47.65625 37.796875 51.625 33 \nQ 55.609375 28.21875 55.609375 21.1875 \nQ 55.609375 10.40625 48.1875 4.484375 \nQ 40.765625 -1.421875 27.09375 -1.421875 \nQ 22.515625 -1.421875 17.65625 -0.515625 \nQ 12.796875 0.390625 7.625 2.203125 \nL 7.625 11.71875 \nQ 11.71875 9.328125 16.59375 8.109375 \nQ 21.484375 6.890625 26.8125 6.890625 \nQ 36.078125 6.890625 40.9375 10.546875 \nQ 45.796875 14.203125 45.796875 21.1875 \nQ 45.796875 27.640625 41.28125 31.265625 \nQ 36.765625 34.90625 28.71875 34.90625 \nL 20.21875 34.90625 \nL 20.21875 43.015625 \nL 29.109375 43.015625 \nQ 36.375 43.015625 40.234375 45.921875 \nQ 44.09375 48.828125 44.09375 54.296875 \nQ 44.09375 59.90625 40.109375 62.90625 \nQ 36.140625 65.921875 28.71875 65.921875 \nQ 24.65625 65.921875 20.015625 65.03125 \nQ 15.375 64.15625 9.8125 62.3125 \nL 9.8125 71.09375 \nQ 15.4375 72.65625 20.34375 73.4375 \nQ 25.25 74.21875 29.59375 74.21875 \nQ 40.828125 74.21875 47.359375 69.109375 \nQ 53.90625 64.015625 53.90625 55.328125 \nQ 53.90625 49.265625 50.4375 45.09375 \nQ 46.96875 40.921875 40.578125 39.3125 \nz\n\" id=\"DejaVuSans-33\"/>\n      </defs>\n      <g transform=\"translate(7.2 151.913647)scale(0.1 -0.1)\">\n       <use xlink:href=\"#DejaVuSans-33\"/>\n       <use x=\"63.623047\" xlink:href=\"#DejaVuSans-2e\"/>\n       <use x=\"95.410156\" xlink:href=\"#DejaVuSans-30\"/>\n      </g>\n     </g>\n    </g>\n    <g id=\"ytick_4\">\n     <g id=\"line2d_13\">\n      <g>\n       <use style=\"stroke:#000000;stroke-width:0.8;\" x=\"30.103125\" xlink:href=\"#m8576b2d322\" y=\"116.23173\"/>\n      </g>\n     </g>\n     <g id=\"text_14\">\n      <!-- 3.5 -->\n      <g transform=\"translate(7.2 120.030949)scale(0.1 -0.1)\">\n       <use xlink:href=\"#DejaVuSans-33\"/>\n       <use x=\"63.623047\" xlink:href=\"#DejaVuSans-2e\"/>\n       <use x=\"95.410156\" xlink:href=\"#DejaVuSans-35\"/>\n      </g>\n     </g>\n    </g>\n    <g id=\"ytick_5\">\n     <g id=\"line2d_14\">\n      <g>\n       <use style=\"stroke:#000000;stroke-width:0.8;\" x=\"30.103125\" xlink:href=\"#m8576b2d322\" y=\"84.349032\"/>\n      </g>\n     </g>\n     <g id=\"text_15\">\n      <!-- 4.0 -->\n      <defs>\n       <path d=\"M 37.796875 64.3125 \nL 12.890625 25.390625 \nL 37.796875 25.390625 \nz\nM 35.203125 72.90625 \nL 47.609375 72.90625 \nL 47.609375 25.390625 \nL 58.015625 25.390625 \nL 58.015625 17.1875 \nL 47.609375 17.1875 \nL 47.609375 0 \nL 37.796875 0 \nL 37.796875 17.1875 \nL 4.890625 17.1875 \nL 4.890625 26.703125 \nz\n\" id=\"DejaVuSans-34\"/>\n      </defs>\n      <g transform=\"translate(7.2 88.148251)scale(0.1 -0.1)\">\n       <use xlink:href=\"#DejaVuSans-34\"/>\n       <use x=\"63.623047\" xlink:href=\"#DejaVuSans-2e\"/>\n       <use x=\"95.410156\" xlink:href=\"#DejaVuSans-30\"/>\n      </g>\n     </g>\n    </g>\n    <g id=\"ytick_6\">\n     <g id=\"line2d_15\">\n      <g>\n       <use style=\"stroke:#000000;stroke-width:0.8;\" x=\"30.103125\" xlink:href=\"#m8576b2d322\" y=\"52.466334\"/>\n      </g>\n     </g>\n     <g id=\"text_16\">\n      <!-- 4.5 -->\n      <g transform=\"translate(7.2 56.265553)scale(0.1 -0.1)\">\n       <use xlink:href=\"#DejaVuSans-34\"/>\n       <use x=\"63.623047\" xlink:href=\"#DejaVuSans-2e\"/>\n       <use x=\"95.410156\" xlink:href=\"#DejaVuSans-35\"/>\n      </g>\n     </g>\n    </g>\n    <g id=\"ytick_7\">\n     <g id=\"line2d_16\">\n      <g>\n       <use style=\"stroke:#000000;stroke-width:0.8;\" x=\"30.103125\" xlink:href=\"#m8576b2d322\" y=\"20.583636\"/>\n      </g>\n     </g>\n     <g id=\"text_17\">\n      <!-- 5.0 -->\n      <g transform=\"translate(7.2 24.382855)scale(0.1 -0.1)\">\n       <use xlink:href=\"#DejaVuSans-35\"/>\n       <use x=\"63.623047\" xlink:href=\"#DejaVuSans-2e\"/>\n       <use x=\"95.410156\" xlink:href=\"#DejaVuSans-30\"/>\n      </g>\n     </g>\n    </g>\n   </g>\n   <g id=\"line2d_17\">\n    <path clip-path=\"url(#pc664ae61a5)\" d=\"M 349.684943 46.089795 \nL 196.304843 20.583636 \nL 119.614793 65.219413 \nL 81.269768 167.244047 \nL 81.269768 160.867507 \nL 52.510999 186.373666 \nL 45.321307 218.256364 \n\" style=\"fill:none;stroke:#1f77b4;stroke-linecap:square;stroke-width:1.5;\"/>\n   </g>\n   <g id=\"patch_3\">\n    <path d=\"M 30.103125 228.14 \nL 30.103125 10.7 \n\" style=\"fill:none;stroke:#000000;stroke-linecap:square;stroke-linejoin:miter;stroke-width:0.8;\"/>\n   </g>\n   <g id=\"patch_4\">\n    <path d=\"M 364.903125 228.14 \nL 364.903125 10.7 \n\" style=\"fill:none;stroke:#000000;stroke-linecap:square;stroke-linejoin:miter;stroke-width:0.8;\"/>\n   </g>\n   <g id=\"patch_5\">\n    <path d=\"M 30.103125 228.14 \nL 364.903125 228.14 \n\" style=\"fill:none;stroke:#000000;stroke-linecap:square;stroke-linejoin:miter;stroke-width:0.8;\"/>\n   </g>\n   <g id=\"patch_6\">\n    <path d=\"M 30.103125 10.7 \nL 364.903125 10.7 \n\" style=\"fill:none;stroke:#000000;stroke-linecap:square;stroke-linejoin:miter;stroke-width:0.8;\"/>\n   </g>\n   <g id=\"legend_1\">\n    <g id=\"patch_7\">\n     <path d=\"M 37.103125 33.65625 \nL 133.620313 33.65625 \nQ 135.620313 33.65625 135.620313 31.65625 \nL 135.620313 17.7 \nQ 135.620313 15.7 133.620313 15.7 \nL 37.103125 15.7 \nQ 35.103125 15.7 35.103125 17.7 \nL 35.103125 31.65625 \nQ 35.103125 33.65625 37.103125 33.65625 \nz\n\" style=\"fill:#ffffff;opacity:0.8;stroke:#cccccc;stroke-linejoin:miter;\"/>\n    </g>\n    <g id=\"line2d_18\">\n     <path d=\"M 39.103125 23.798437 \nL 59.103125 23.798437 \n\" style=\"fill:none;stroke:#1f77b4;stroke-linecap:square;stroke-width:1.5;\"/>\n    </g>\n    <g id=\"line2d_19\"/>\n    <g id=\"text_18\">\n     <!-- metric_value -->\n     <defs>\n      <path d=\"M 52 44.1875 \nQ 55.375 50.25 60.0625 53.125 \nQ 64.75 56 71.09375 56 \nQ 79.640625 56 84.28125 50.015625 \nQ 88.921875 44.046875 88.921875 33.015625 \nL 88.921875 0 \nL 79.890625 0 \nL 79.890625 32.71875 \nQ 79.890625 40.578125 77.09375 44.375 \nQ 74.3125 48.1875 68.609375 48.1875 \nQ 61.625 48.1875 57.5625 43.546875 \nQ 53.515625 38.921875 53.515625 30.90625 \nL 53.515625 0 \nL 44.484375 0 \nL 44.484375 32.71875 \nQ 44.484375 40.625 41.703125 44.40625 \nQ 38.921875 48.1875 33.109375 48.1875 \nQ 26.21875 48.1875 22.15625 43.53125 \nQ 18.109375 38.875 18.109375 30.90625 \nL 18.109375 0 \nL 9.078125 0 \nL 9.078125 54.6875 \nL 18.109375 54.6875 \nL 18.109375 46.1875 \nQ 21.1875 51.21875 25.484375 53.609375 \nQ 29.78125 56 35.6875 56 \nQ 41.65625 56 45.828125 52.96875 \nQ 50 49.953125 52 44.1875 \nz\n\" id=\"DejaVuSans-6d\"/>\n      <path d=\"M 56.203125 29.59375 \nL 56.203125 25.203125 \nL 14.890625 25.203125 \nQ 15.484375 15.921875 20.484375 11.0625 \nQ 25.484375 6.203125 34.421875 6.203125 \nQ 39.59375 6.203125 44.453125 7.46875 \nQ 49.3125 8.734375 54.109375 11.28125 \nL 54.109375 2.78125 \nQ 49.265625 0.734375 44.1875 -0.34375 \nQ 39.109375 -1.421875 33.890625 -1.421875 \nQ 20.796875 -1.421875 13.15625 6.1875 \nQ 5.515625 13.8125 5.515625 26.8125 \nQ 5.515625 40.234375 12.765625 48.109375 \nQ 20.015625 56 32.328125 56 \nQ 43.359375 56 49.78125 48.890625 \nQ 56.203125 41.796875 56.203125 29.59375 \nz\nM 47.21875 32.234375 \nQ 47.125 39.59375 43.09375 43.984375 \nQ 39.0625 48.390625 32.421875 48.390625 \nQ 24.90625 48.390625 20.390625 44.140625 \nQ 15.875 39.890625 15.1875 32.171875 \nz\n\" id=\"DejaVuSans-65\"/>\n      <path d=\"M 18.3125 70.21875 \nL 18.3125 54.6875 \nL 36.8125 54.6875 \nL 36.8125 47.703125 \nL 18.3125 47.703125 \nL 18.3125 18.015625 \nQ 18.3125 11.328125 20.140625 9.421875 \nQ 21.96875 7.515625 27.59375 7.515625 \nL 36.8125 7.515625 \nL 36.8125 0 \nL 27.59375 0 \nQ 17.1875 0 13.234375 3.875 \nQ 9.28125 7.765625 9.28125 18.015625 \nL 9.28125 47.703125 \nL 2.6875 47.703125 \nL 2.6875 54.6875 \nL 9.28125 54.6875 \nL 9.28125 70.21875 \nz\n\" id=\"DejaVuSans-74\"/>\n      <path d=\"M 41.109375 46.296875 \nQ 39.59375 47.171875 37.8125 47.578125 \nQ 36.03125 48 33.890625 48 \nQ 26.265625 48 22.1875 43.046875 \nQ 18.109375 38.09375 18.109375 28.8125 \nL 18.109375 0 \nL 9.078125 0 \nL 9.078125 54.6875 \nL 18.109375 54.6875 \nL 18.109375 46.1875 \nQ 20.953125 51.171875 25.484375 53.578125 \nQ 30.03125 56 36.53125 56 \nQ 37.453125 56 38.578125 55.875 \nQ 39.703125 55.765625 41.0625 55.515625 \nz\n\" id=\"DejaVuSans-72\"/>\n      <path d=\"M 9.421875 54.6875 \nL 18.40625 54.6875 \nL 18.40625 0 \nL 9.421875 0 \nz\nM 9.421875 75.984375 \nL 18.40625 75.984375 \nL 18.40625 64.59375 \nL 9.421875 64.59375 \nz\n\" id=\"DejaVuSans-69\"/>\n      <path d=\"M 48.78125 52.59375 \nL 48.78125 44.1875 \nQ 44.96875 46.296875 41.140625 47.34375 \nQ 37.3125 48.390625 33.40625 48.390625 \nQ 24.65625 48.390625 19.8125 42.84375 \nQ 14.984375 37.3125 14.984375 27.296875 \nQ 14.984375 17.28125 19.8125 11.734375 \nQ 24.65625 6.203125 33.40625 6.203125 \nQ 37.3125 6.203125 41.140625 7.25 \nQ 44.96875 8.296875 48.78125 10.40625 \nL 48.78125 2.09375 \nQ 45.015625 0.34375 40.984375 -0.53125 \nQ 36.96875 -1.421875 32.421875 -1.421875 \nQ 20.0625 -1.421875 12.78125 6.34375 \nQ 5.515625 14.109375 5.515625 27.296875 \nQ 5.515625 40.671875 12.859375 48.328125 \nQ 20.21875 56 33.015625 56 \nQ 37.15625 56 41.109375 55.140625 \nQ 45.0625 54.296875 48.78125 52.59375 \nz\n\" id=\"DejaVuSans-63\"/>\n      <path d=\"M 50.984375 -16.609375 \nL 50.984375 -23.578125 \nL -0.984375 -23.578125 \nL -0.984375 -16.609375 \nz\n\" id=\"DejaVuSans-5f\"/>\n      <path d=\"M 2.984375 54.6875 \nL 12.5 54.6875 \nL 29.59375 8.796875 \nL 46.6875 54.6875 \nL 56.203125 54.6875 \nL 35.6875 0 \nL 23.484375 0 \nz\n\" id=\"DejaVuSans-76\"/>\n      <path d=\"M 34.28125 27.484375 \nQ 23.390625 27.484375 19.1875 25 \nQ 14.984375 22.515625 14.984375 16.5 \nQ 14.984375 11.71875 18.140625 8.90625 \nQ 21.296875 6.109375 26.703125 6.109375 \nQ 34.1875 6.109375 38.703125 11.40625 \nQ 43.21875 16.703125 43.21875 25.484375 \nL 43.21875 27.484375 \nz\nM 52.203125 31.203125 \nL 52.203125 0 \nL 43.21875 0 \nL 43.21875 8.296875 \nQ 40.140625 3.328125 35.546875 0.953125 \nQ 30.953125 -1.421875 24.3125 -1.421875 \nQ 15.921875 -1.421875 10.953125 3.296875 \nQ 6 8.015625 6 15.921875 \nQ 6 25.140625 12.171875 29.828125 \nQ 18.359375 34.515625 30.609375 34.515625 \nL 43.21875 34.515625 \nL 43.21875 35.40625 \nQ 43.21875 41.609375 39.140625 45 \nQ 35.0625 48.390625 27.6875 48.390625 \nQ 23 48.390625 18.546875 47.265625 \nQ 14.109375 46.140625 10.015625 43.890625 \nL 10.015625 52.203125 \nQ 14.9375 54.109375 19.578125 55.046875 \nQ 24.21875 56 28.609375 56 \nQ 40.484375 56 46.34375 49.84375 \nQ 52.203125 43.703125 52.203125 31.203125 \nz\n\" id=\"DejaVuSans-61\"/>\n      <path d=\"M 9.421875 75.984375 \nL 18.40625 75.984375 \nL 18.40625 0 \nL 9.421875 0 \nz\n\" id=\"DejaVuSans-6c\"/>\n      <path d=\"M 8.5 21.578125 \nL 8.5 54.6875 \nL 17.484375 54.6875 \nL 17.484375 21.921875 \nQ 17.484375 14.15625 20.5 10.265625 \nQ 23.53125 6.390625 29.59375 6.390625 \nQ 36.859375 6.390625 41.078125 11.03125 \nQ 45.3125 15.671875 45.3125 23.6875 \nL 45.3125 54.6875 \nL 54.296875 54.6875 \nL 54.296875 0 \nL 45.3125 0 \nL 45.3125 8.40625 \nQ 42.046875 3.421875 37.71875 1 \nQ 33.40625 -1.421875 27.6875 -1.421875 \nQ 18.265625 -1.421875 13.375 4.4375 \nQ 8.5 10.296875 8.5 21.578125 \nz\nM 31.109375 56 \nz\n\" id=\"DejaVuSans-75\"/>\n     </defs>\n     <g transform=\"translate(67.103125 27.298437)scale(0.1 -0.1)\">\n      <use xlink:href=\"#DejaVuSans-6d\"/>\n      <use x=\"97.412109\" xlink:href=\"#DejaVuSans-65\"/>\n      <use x=\"158.935547\" xlink:href=\"#DejaVuSans-74\"/>\n      <use x=\"198.144531\" xlink:href=\"#DejaVuSans-72\"/>\n      <use x=\"239.257812\" xlink:href=\"#DejaVuSans-69\"/>\n      <use x=\"267.041016\" xlink:href=\"#DejaVuSans-63\"/>\n      <use x=\"322.021484\" xlink:href=\"#DejaVuSans-5f\"/>\n      <use x=\"372.021484\" xlink:href=\"#DejaVuSans-76\"/>\n      <use x=\"431.201172\" xlink:href=\"#DejaVuSans-61\"/>\n      <use x=\"492.480469\" xlink:href=\"#DejaVuSans-6c\"/>\n      <use x=\"520.263672\" xlink:href=\"#DejaVuSans-75\"/>\n      <use x=\"583.642578\" xlink:href=\"#DejaVuSans-65\"/>\n     </g>\n    </g>\n   </g>\n  </g>\n </g>\n <defs>\n  <clipPath id=\"pc664ae61a5\">\n   <rect height=\"217.44\" width=\"334.8\" x=\"30.103125\" y=\"10.7\"/>\n  </clipPath>\n </defs>\n</svg>\n",
      "image/png": "[encoded data removed]"
     },
     "metadata": {}
    }
   ],
   "source": [
    "%matplotlib inline\n",
    "gflops_scaling.plot(\"n\",\"metric_value\");"
   ]
  },
  {
   "cell_type": "code",
   "execution_count": null,
   "metadata": {},
   "outputs": [],
   "source": []
  }
 ]
}